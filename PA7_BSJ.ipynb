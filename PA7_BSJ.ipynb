{
 "cells": [
  {
   "cell_type": "markdown",
   "metadata": {},
   "source": [
    "# Programming Assignment 7\n",
    "Brian Johnston  \n",
    "v1.0  \n",
    "FA2020 - CS-150-01"
   ]
  },
  {
   "cell_type": "code",
   "execution_count": 19,
   "metadata": {},
   "outputs": [],
   "source": [
    "def breakdown(string):\n",
    "    \n",
    "    stringStorage = list(string)\n",
    "    newString = \"\"\n",
    "    finalList = []\n",
    "    \n",
    "    if len(stringStorage) == 5:\n",
    "        for i in stringStorage:\n",
    "            for j in stringStorage:\n",
    "                for k in stringStorage:\n",
    "                    if i == j or j == k or k == i:\n",
    "                        newString = \"\" ### to prevent it from breaking/ yelling at me\n",
    "                    else:\n",
    "                        finalList.append(i+j+k)\n",
    "                        \n",
    "                        \n",
    "    else:\n",
    "        finalList.append(\"Word must be five letters long!\")\n",
    "        \n",
    "    \n",
    "    return finalList"
   ]
  },
  {
   "cell_type": "code",
   "execution_count": 35,
   "metadata": {},
   "outputs": [
    {
     "name": "stdout",
     "output_type": "stream",
     "text": [
      "Enter a five letter word: bathe\n",
      "bat bah bae bta bth bte bha bht bhe bea bet beh abt abh abe atb ath ate ahb aht ahe aeb aet aeh tba tbh tbe tab tah tae thb tha the teb tea teh hba hbt hbe hab hat hae htb hta hte heb hea het eba ebt ebh eab eat eah etb eta eth ehb eha eht\n",
      "\n",
      "\n",
      "Enter a five letter word: baits\n",
      "bai bat bas bia bit bis bta bti bts bsa bsi bst abi abt abs aib ait ais atb ati ats asb asi ast iba ibt ibs iab iat ias itb ita its isb isa ist tba tbi tbs tab tai tas tib tia tis tsb tsa tsi sba sbi sbt sab sai sat sib sia sit stb sta sti\n",
      "\n",
      "\n",
      "Enter a five letter word: bat\n",
      "Word must be five letters long!\n",
      "\n",
      "\n",
      "Enter a five letter word: house\n",
      "hou hos hoe huo hus hue hso hsu hse heo heu hes ohu ohs ohe ouh ous oue osh osu ose oeh oeu oes uho uhs uhe uoh uos uoe ush uso use ueh ueo ues sho shu she soh sou soe suh suo sue seh seo seu eho ehu ehs eoh eou eos euh euo eus esh eso esu\n",
      "\n",
      "\n",
      "Enter a five letter word: 0\n",
      "\n"
     ]
    }
   ],
   "source": [
    "uInfo = \"\"\n",
    "while uInfo != \"0\":\n",
    "    \n",
    "    uInfo = input(\"Enter a five letter word: \")\n",
    "\n",
    "    if uInfo == \"0\":\n",
    "        print(\"\")\n",
    "    else:\n",
    "        result = breakdown(uInfo)\n",
    "        print(\" \".join(result))\n",
    "        print(\"\\n\")"
   ]
  },
  {
   "cell_type": "code",
   "execution_count": 52,
   "metadata": {},
   "outputs": [],
   "source": [
    "def parser(string):\n",
    "    \n",
    "    if string == \"zero\":\n",
    "        return \"0\"\n",
    "    elif string == \"one\":\n",
    "        return \"1\"\n",
    "    elif string == \"two\":\n",
    "        return \"2\"\n",
    "    elif string == \"three\":\n",
    "        return \"3\"\n",
    "    elif string == \"four\":\n",
    "        return \"4\"\n",
    "    elif string == \"five\":\n",
    "        return \"5\"\n",
    "    elif string == \"six\":\n",
    "        return \"6\"\n",
    "    elif string == \"seven\":\n",
    "        return \"7\"\n",
    "    elif string == \"eight\":\n",
    "        return \"8\"\n",
    "    elif string == \"nine\":\n",
    "        return \"9\"\n",
    "    elif string == \"plus\":\n",
    "        return \"+\"\n",
    "    elif string == \"minus\":\n",
    "        return \"-\"\n",
    "    elif string == \"times\":\n",
    "        return \"*\"\n",
    "    elif string == \"dividedby\":\n",
    "        return \"/\"\n",
    "    elif string == \"0\":\n",
    "        return \"0\"\n",
    "    else:\n",
    "        return \"InvalidInput\""
   ]
  },
  {
   "cell_type": "code",
   "execution_count": 55,
   "metadata": {},
   "outputs": [
    {
     "name": "stdout",
     "output_type": "stream",
     "text": [
      "Enter a simple arithmetic expression in words:0\n",
      "\n"
     ]
    }
   ],
   "source": [
    "uInfo = \"\"\n",
    "\n",
    "while uInfo != \"0\":\n",
    "    \n",
    "    uInfo = input(\"Enter a simple arithmetic expression in words:\").lower()\n",
    "    uInfo = uInfo.replace(\"divided by\", \"dividedby\")\n",
    "    result = list(map(parser, list(uInfo.split(\" \"))))\n",
    "    \n",
    "    if \"InvalidInput\" in result:\n",
    "        print(\"I cannot evaluate this expression!\")\n",
    "    elif uInfo == \"0\":\n",
    "        print(\"\")\n",
    "    else:  \n",
    "        finalResult = \" \".join(result) + \" = \" + str(eval(\"\".join(result)))\n",
    "        print(finalResult)\n",
    "    "
   ]
  },
  {
   "cell_type": "code",
   "execution_count": null,
   "metadata": {},
   "outputs": [],
   "source": []
  }
 ],
 "metadata": {
  "kernelspec": {
   "display_name": "Python 3",
   "language": "python",
   "name": "python3"
  },
  "language_info": {
   "codemirror_mode": {
    "name": "ipython",
    "version": 3
   },
   "file_extension": ".py",
   "mimetype": "text/x-python",
   "name": "python",
   "nbconvert_exporter": "python",
   "pygments_lexer": "ipython3",
   "version": "3.8.3"
  }
 },
 "nbformat": 4,
 "nbformat_minor": 4
}
